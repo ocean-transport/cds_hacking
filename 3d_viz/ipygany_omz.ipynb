{
 "cells": [
  {
   "cell_type": "code",
   "execution_count": 1,
   "id": "honest-ecuador",
   "metadata": {},
   "outputs": [],
   "source": [
    "# Getting import problems. \n",
    "# Trying fix from here: https://github.com/conda-forge/pygridgen-feedstock/issues/10#issuecomment-365914605\n",
    "# !apt update\n",
    "# !apt install libgl1-mesa-glx"
   ]
  },
  {
   "cell_type": "code",
   "execution_count": 2,
   "id": "geological-discount",
   "metadata": {},
   "outputs": [],
   "source": [
    "# only needed \n",
    "# !jupyter labextension install @jupyter-widgets/jupyterlab-manager ipygany"
   ]
  },
  {
   "cell_type": "markdown",
   "id": "apparent-craps",
   "metadata": {},
   "source": [
    "## The working example"
   ]
  },
  {
   "cell_type": "code",
   "execution_count": 3,
   "id": "stupid-attention",
   "metadata": {},
   "outputs": [],
   "source": [
    "# install some stuff\n",
    "\n",
    "# !mamba install -y ipygany pyvista \n",
    "\n",
    "# k3d actually messes up my other examples...\n",
    "\n",
    "# Need to rebuild lab and refresh browser after"
   ]
  },
  {
   "cell_type": "code",
   "execution_count": 4,
   "id": "purple-liability",
   "metadata": {},
   "outputs": [],
   "source": [
    "from skimage import measure"
   ]
  },
  {
   "cell_type": "code",
   "execution_count": 5,
   "id": "professional-surveillance",
   "metadata": {},
   "outputs": [],
   "source": [
    "import matplotlib.pyplot as plt"
   ]
  },
  {
   "cell_type": "code",
   "execution_count": 6,
   "id": "supreme-borough",
   "metadata": {},
   "outputs": [],
   "source": [
    "from cmip6_preprocessing.preprocessing import combined_preprocessing"
   ]
  },
  {
   "cell_type": "code",
   "execution_count": 7,
   "id": "compound-glasgow",
   "metadata": {},
   "outputs": [],
   "source": [
    "import numpy as np\n",
    "from ipywidgets import FloatSlider, FloatRangeSlider, Dropdown, Select, VBox, AppLayout, jslink\n",
    "from ipygany import Scene, IsoColor, PolyMesh, Component, ColorBar, colormaps, Alpha, IsoSurface"
   ]
  },
  {
   "cell_type": "markdown",
   "id": "developing-mitchell",
   "metadata": {},
   "source": [
    "## Loading some bathymetry data"
   ]
  },
  {
   "cell_type": "code",
   "execution_count": 8,
   "id": "textile-recorder",
   "metadata": {},
   "outputs": [
    {
     "data": {
      "text/html": [
       "<p><strong>pangeo-cmip6 catalog with 7362 dataset(s) from 483600 asset(s)</strong>:</p> <div>\n",
       "<style scoped>\n",
       "    .dataframe tbody tr th:only-of-type {\n",
       "        vertical-align: middle;\n",
       "    }\n",
       "\n",
       "    .dataframe tbody tr th {\n",
       "        vertical-align: top;\n",
       "    }\n",
       "\n",
       "    .dataframe thead th {\n",
       "        text-align: right;\n",
       "    }\n",
       "</style>\n",
       "<table border=\"1\" class=\"dataframe\">\n",
       "  <thead>\n",
       "    <tr style=\"text-align: right;\">\n",
       "      <th></th>\n",
       "      <th>unique</th>\n",
       "    </tr>\n",
       "  </thead>\n",
       "  <tbody>\n",
       "    <tr>\n",
       "      <th>activity_id</th>\n",
       "      <td>17</td>\n",
       "    </tr>\n",
       "    <tr>\n",
       "      <th>institution_id</th>\n",
       "      <td>36</td>\n",
       "    </tr>\n",
       "    <tr>\n",
       "      <th>source_id</th>\n",
       "      <td>86</td>\n",
       "    </tr>\n",
       "    <tr>\n",
       "      <th>experiment_id</th>\n",
       "      <td>168</td>\n",
       "    </tr>\n",
       "    <tr>\n",
       "      <th>member_id</th>\n",
       "      <td>626</td>\n",
       "    </tr>\n",
       "    <tr>\n",
       "      <th>table_id</th>\n",
       "      <td>37</td>\n",
       "    </tr>\n",
       "    <tr>\n",
       "      <th>variable_id</th>\n",
       "      <td>709</td>\n",
       "    </tr>\n",
       "    <tr>\n",
       "      <th>grid_label</th>\n",
       "      <td>10</td>\n",
       "    </tr>\n",
       "    <tr>\n",
       "      <th>zstore</th>\n",
       "      <td>483600</td>\n",
       "    </tr>\n",
       "    <tr>\n",
       "      <th>dcpp_init_year</th>\n",
       "      <td>60</td>\n",
       "    </tr>\n",
       "    <tr>\n",
       "      <th>version</th>\n",
       "      <td>647</td>\n",
       "    </tr>\n",
       "  </tbody>\n",
       "</table>\n",
       "</div>"
      ],
      "text/plain": [
       "<IPython.core.display.HTML object>"
      ]
     },
     "metadata": {},
     "output_type": "display_data"
    }
   ],
   "source": [
    "import intake\n",
    "# newer version\n",
    "col = intake.open_esm_datastore(\"https://storage.googleapis.com/cmip6/pangeo-cmip6.json\")\n",
    "col"
   ]
  },
  {
   "cell_type": "code",
   "execution_count": 9,
   "id": "limited-studio",
   "metadata": {},
   "outputs": [],
   "source": [
    "aspect_ratio = {'x':1,'y':1,'lev':1/5}\n",
    "spacing = {'x':1, 'y':1, 'lev':20}"
   ]
  },
  {
   "cell_type": "code",
   "execution_count": 10,
   "id": "fewer-letter",
   "metadata": {},
   "outputs": [],
   "source": [
    "def convert_mol_m3_mymol_kg(o2):\n",
    "    converted = o2 / 1025 * 1e6\n",
    "    converted.attrs[\"units\"] = \"$\\mu mol/kg$\"\n",
    "    return converted"
   ]
  },
  {
   "cell_type": "code",
   "execution_count": 11,
   "id": "level-noise",
   "metadata": {},
   "outputs": [],
   "source": [
    "dd_kwargs = dict(zarr_kwargs={'consolidated':True}, preprocess=combined_preprocessing)"
   ]
  },
  {
   "cell_type": "code",
   "execution_count": 12,
   "id": "conservative-guest",
   "metadata": {},
   "outputs": [
    {
     "name": "stdout",
     "output_type": "stream",
     "text": [
      "\n",
      "--> The keys in the returned dictionary of datasets are constructed as follows:\n",
      "\t'activity_id.institution_id.source_id.experiment_id.table_id.grid_label'\n"
     ]
    },
    {
     "data": {
      "text/html": [
       "\n",
       "    <div>\n",
       "        <style>\n",
       "            /* Turns off some styling */\n",
       "            progress {\n",
       "                /* gets rid of default border in Firefox and Opera. */\n",
       "                border: none;\n",
       "                /* Needs to be in here for Safari polyfill so background images work as expected. */\n",
       "                background-size: auto;\n",
       "            }\n",
       "            .progress-bar-interrupted, .progress-bar-interrupted::-webkit-progress-bar {\n",
       "                background: #F44336;\n",
       "            }\n",
       "        </style>\n",
       "      <progress value='2' class='' max='2' style='width:300px; height:20px; vertical-align: middle;'></progress>\n",
       "      100.00% [2/2 00:00<00:00]\n",
       "    </div>\n",
       "    "
      ],
      "text/plain": [
       "<IPython.core.display.HTML object>"
      ]
     },
     "metadata": {},
     "output_type": "display_data"
    }
   ],
   "source": [
    "cat = col.search(variable_id=['deptho'], grid_label='gr', source_id='GFDL-CM4')\n",
    "ddict = cat.to_dataset_dict(**dd_kwargs)\n",
    "_, ds = ddict.popitem()\n",
    "depth = ds.deptho.fillna(0).squeeze().transpose('y','x').load().data"
   ]
  },
  {
   "cell_type": "markdown",
   "id": "federal-natural",
   "metadata": {},
   "source": [
    "### Get o2 data"
   ]
  },
  {
   "cell_type": "code",
   "execution_count": 13,
   "id": "coordinate-architect",
   "metadata": {},
   "outputs": [
    {
     "name": "stdout",
     "output_type": "stream",
     "text": [
      "\n",
      "--> The keys in the returned dictionary of datasets are constructed as follows:\n",
      "\t'activity_id.institution_id.source_id.experiment_id.table_id.grid_label'\n"
     ]
    },
    {
     "data": {
      "text/html": [
       "\n",
       "    <div>\n",
       "        <style>\n",
       "            /* Turns off some styling */\n",
       "            progress {\n",
       "                /* gets rid of default border in Firefox and Opera. */\n",
       "                border: none;\n",
       "                /* Needs to be in here for Safari polyfill so background images work as expected. */\n",
       "                background-size: auto;\n",
       "            }\n",
       "            .progress-bar-interrupted, .progress-bar-interrupted::-webkit-progress-bar {\n",
       "                background: #F44336;\n",
       "            }\n",
       "        </style>\n",
       "      <progress value='7' class='' max='7' style='width:300px; height:20px; vertical-align: middle;'></progress>\n",
       "      100.00% [7/7 00:00<00:00]\n",
       "    </div>\n",
       "    "
      ],
      "text/plain": [
       "<IPython.core.display.HTML object>"
      ]
     },
     "metadata": {},
     "output_type": "display_data"
    }
   ],
   "source": [
    "cat = col.search(variable_id=['o2'], grid_label='gr', source_id='GFDL-CM4')\n",
    "ddict = cat.to_dataset_dict(**dd_kwargs)"
   ]
  },
  {
   "cell_type": "code",
   "execution_count": 14,
   "id": "stainless-charge",
   "metadata": {},
   "outputs": [
    {
     "name": "stdout",
     "output_type": "stream",
     "text": [
      "0.0834624\n"
     ]
    },
    {
     "name": "stderr",
     "output_type": "stream",
     "text": [
      "/Users/juliusbusecke/miniconda/envs/hack_3d_viz/lib/python3.8/site-packages/dask/array/numpy_compat.py:39: RuntimeWarning: invalid value encountered in true_divide\n",
      "  x = np.divide(x1, x2, out)\n"
     ]
    }
   ],
   "source": [
    "ds = ddict['CMIP.NOAA-GFDL.GFDL-CM4.historical.Omon.gr']\n",
    "da_o2 = convert_mol_m3_mymol_kg(ds.o2).squeeze().isel(time=slice(0,600)).mean('time').transpose('x','y','lev')\n",
    "# For now I have loaded the coarser depth data, need to find a way to harmonize this with the cooler high res data later\n",
    "\n",
    "# the current marching_cube implementation needs regularly spaced data\n",
    "da_o2 = da_o2.interp(lev=np.arange(0,np.max(depth),spacing['lev']))\n",
    "\n",
    "print(da_o2.nbytes/1e9)\n",
    "o2 = da_o2.fillna(1e12).load().data\n",
    "# o2"
   ]
  },
  {
   "cell_type": "code",
   "execution_count": 15,
   "id": "rapid-lambda",
   "metadata": {},
   "outputs": [],
   "source": [
    "def isovolume(data, levels, spacing, colors,  vmin=0, vmax=120):\n",
    "    if not isinstance(levels, list):\n",
    "        levels = list(levels)\n",
    "    scenes = []\n",
    "    \n",
    "    for level, color in zip(levels, colors):\n",
    "        # Use marching cubes to obtain the surface mesh of these ellipsoids\n",
    "        verts, faces, normals, values = measure.marching_cubes(o2, level, spacing=(1,1,-spacing['lev']))\n",
    "\n",
    "        # normalize\n",
    "        verts = verts / np.array(o2.shape) * [aspect_ratio[dim]/spacing[dim] for dim in list(da_o2.dims) if dim in aspect_ratio.keys()]\n",
    "        \n",
    "        height_component = Component(name='value', array=o2) # I have no clue what this does?\n",
    "\n",
    "        mesh = PolyMesh(\n",
    "            vertices=verts,\n",
    "            triangle_indices=faces,\n",
    "            data={'height': [height_component]}\n",
    "        )\n",
    "        \n",
    "        margin = 3 # this is a really shitty solution. I want a solid color for the isosurface not a value mapped onto it (maybe later)\n",
    "        height_min = level - margin\n",
    "        height_max = level + margin\n",
    "        \n",
    "        colored_mesh = Alpha(mesh, alpha=0.1)\n",
    "        colored_mesh.default_color = color\n",
    "    \n",
    "        # this eliminates the shading....\n",
    "#         colored_mesh = Alpha(IsoSurface(mesh,rgb='r')) # this is a total guess. The docstrings are not very helpful to figure out kwargs...neither are the docs at this point.\n",
    "        \n",
    "        scenes.append(colored_mesh)\n",
    "    return scenes"
   ]
  },
  {
   "cell_type": "code",
   "execution_count": null,
   "id": "formal-original",
   "metadata": {},
   "outputs": [],
   "source": []
  },
  {
   "cell_type": "code",
   "execution_count": 16,
   "id": "binary-laptop",
   "metadata": {},
   "outputs": [
    {
     "data": {
      "application/vnd.jupyter.widget-view+json": {
       "model_id": "c7d4f2f7d0ac437ba8c9513e5d4ff8e7",
       "version_major": 2,
       "version_minor": 0
      },
      "text/plain": [
       "AppLayout(children=(Scene(children=[Alpha(default_color='red', input=0.7, parent=PolyMesh(data=[Data(component…"
      ]
     },
     "metadata": {},
     "output_type": "display_data"
    }
   ],
   "source": [
    "iso = isovolume(o2, [20, 80, 140], spacing, ['red', 'blue', 'green'])\n",
    "AppLayout(center=Scene(iso))"
   ]
  },
  {
   "cell_type": "code",
   "execution_count": 17,
   "id": "living-impression",
   "metadata": {},
   "outputs": [],
   "source": [
    "iso[0].default_color = 'red'"
   ]
  },
  {
   "cell_type": "code",
   "execution_count": 18,
   "id": "former-henry",
   "metadata": {},
   "outputs": [
    {
     "data": {
      "text/plain": [
       "['_display_callbacks',\n",
       " '_model_module',\n",
       " '_model_module_version',\n",
       " '_model_name',\n",
       " '_msg_callbacks',\n",
       " '_property_lock',\n",
       " '_states_to_send',\n",
       " '_view_count',\n",
       " '_view_module',\n",
       " '_view_module_version',\n",
       " '_view_name',\n",
       " 'comm',\n",
       " 'default_color',\n",
       " 'environment_meshes',\n",
       " 'input',\n",
       " 'keys',\n",
       " 'log',\n",
       " 'parent',\n",
       " 'vertices']"
      ]
     },
     "execution_count": 18,
     "metadata": {},
     "output_type": "execute_result"
    }
   ],
   "source": [
    "iso[0].class_trait_names()"
   ]
  },
  {
   "cell_type": "markdown",
   "id": "beginning-grenada",
   "metadata": {},
   "source": [
    "Some notes\n",
    "\n",
    "- transpose matters (y,x order)\n",
    "- z (and all other dims) needs to be normalized. Large depths messed up the figure!"
   ]
  },
  {
   "cell_type": "code",
   "execution_count": 19,
   "id": "fifty-cooler",
   "metadata": {},
   "outputs": [
    {
     "name": "stderr",
     "output_type": "stream",
     "text": [
      "<ipython-input-19-6de2f4a3a776>:24: RuntimeWarning: invalid value encountered in true_divide\n",
      "  z = np.sin(xx**2 + yy**2) / (xx**2 + yy**2)\n"
     ]
    },
    {
     "data": {
      "application/vnd.jupyter.widget-view+json": {
       "model_id": "81df491aa6fb42ddb2b1780cfe67b3a9",
       "version_major": 2,
       "version_minor": 0
      },
      "text/plain": [
       "AppLayout(children=(Scene(children=[PolyMesh(data=[Data(components=[Component(array=array([[   0.    ,    0.  …"
      ]
     },
     "metadata": {},
     "output_type": "display_data"
    }
   ],
   "source": [
    "# Create triangle indices\n",
    "\n",
    "\n",
    "ny, nx = depth.shape\n",
    "triangle_indices = np.empty((ny - 1, nx - 1, 2, 3), dtype=int)\n",
    "\n",
    "r = np.arange(nx * ny).reshape(ny, nx)\n",
    "\n",
    "triangle_indices[:, :, 0, 0] = r[:-1, :-1]\n",
    "triangle_indices[:, :, 1, 0] = r[:-1, 1:]\n",
    "triangle_indices[:, :, 0, 1] = r[:-1, 1:]\n",
    "\n",
    "triangle_indices[:, :, 1, 1] = r[1:, 1:]\n",
    "triangle_indices[:, :, :, 2] = r[1:, :-1, None]\n",
    "\n",
    "triangle_indices.shape = (-1, 3)\n",
    "\n",
    "# Create vertices\n",
    "x = np.linspace(0, 1, nx)\n",
    "y = np.linspace(0, 1, ny)\n",
    "\n",
    "xx, yy = np.meshgrid(x, y, sparse=True)\n",
    "\n",
    "z = np.sin(xx**2 + yy**2) / (xx**2 + yy**2)\n",
    "# z = np.random.rand(ny,nx)\n",
    "z = abs(depth)\n",
    "z_norm = z/np.max(abs(z))\n",
    "\n",
    "vertices = np.empty((ny, nx, 3))\n",
    "vertices[:, :, 0] = xx * aspect_ratio['x']\n",
    "vertices[:, :, 1] = yy * aspect_ratio['y']\n",
    "vertices[:, :, 2] = -z_norm * aspect_ratio['lev']\n",
    "vertices = vertices.reshape(nx * ny, 3)\n",
    "\n",
    "height_component = Component(name='value', array=z)\n",
    "\n",
    "bathymetry = PolyMesh(\n",
    "    vertices=vertices,\n",
    "    triangle_indices=triangle_indices,\n",
    "    data={'height': [height_component]}\n",
    ")\n",
    "bathymetry.default_color = 'gray'\n",
    "\n",
    "height_min = np.min(z)\n",
    "height_max = np.max(z)\n",
    "\n",
    "iso = isovolume(o2, [20, 80], spacing, ['red', 'purple', 'blue'])\n",
    "\n",
    "\n",
    "AppLayout(\n",
    "    center=Scene([bathymetry]+iso),\n",
    "    pane_widths=[0, 3, 0]\n",
    ")"
   ]
  },
  {
   "cell_type": "code",
   "execution_count": null,
   "id": "assisted-white",
   "metadata": {},
   "outputs": [],
   "source": []
  },
  {
   "cell_type": "code",
   "execution_count": null,
   "id": "ranking-holiday",
   "metadata": {},
   "outputs": [],
   "source": []
  }
 ],
 "metadata": {
  "kernelspec": {
   "display_name": "Python 3",
   "language": "python",
   "name": "python3"
  },
  "language_info": {
   "codemirror_mode": {
    "name": "ipython",
    "version": 3
   },
   "file_extension": ".py",
   "mimetype": "text/x-python",
   "name": "python",
   "nbconvert_exporter": "python",
   "pygments_lexer": "ipython3",
   "version": "3.8.8"
  }
 },
 "nbformat": 4,
 "nbformat_minor": 5
}
