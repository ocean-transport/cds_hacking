{
 "cells": [
  {
   "cell_type": "markdown",
   "id": "perfect-poster",
   "metadata": {},
   "source": [
    "# isovolume demo with k3d\n",
    "\n",
    "I am trying to remake the example that I did with ipygany with k3d here."
   ]
  },
  {
   "cell_type": "code",
   "execution_count": 1,
   "id": "genetic-spank",
   "metadata": {},
   "outputs": [],
   "source": [
    "import numpy as np\n",
    "import k3d"
   ]
  },
  {
   "cell_type": "markdown",
   "id": "contained-advisory",
   "metadata": {},
   "source": [
    "## Load the data\n",
    "\n",
    "I can talk in detail later about this but for now, this is just a way to get at a single time step dataset for the ocen depth and o2 concentrations"
   ]
  },
  {
   "cell_type": "code",
   "execution_count": 2,
   "id": "under-smooth",
   "metadata": {},
   "outputs": [
    {
     "name": "stdout",
     "output_type": "stream",
     "text": [
      "\n",
      "--> The keys in the returned dictionary of datasets are constructed as follows:\n",
      "\t'activity_id.institution_id.source_id.experiment_id.table_id.grid_label'\n"
     ]
    },
    {
     "data": {
      "text/html": [
       "\n",
       "    <div>\n",
       "        <style>\n",
       "            /* Turns off some styling */\n",
       "            progress {\n",
       "                /* gets rid of default border in Firefox and Opera. */\n",
       "                border: none;\n",
       "                /* Needs to be in here for Safari polyfill so background images work as expected. */\n",
       "                background-size: auto;\n",
       "            }\n",
       "            .progress-bar-interrupted, .progress-bar-interrupted::-webkit-progress-bar {\n",
       "                background: #F44336;\n",
       "            }\n",
       "        </style>\n",
       "      <progress value='2' class='' max='2' style='width:300px; height:20px; vertical-align: middle;'></progress>\n",
       "      100.00% [2/2 00:00<00:00]\n",
       "    </div>\n",
       "    "
      ],
      "text/plain": [
       "<IPython.core.display.HTML object>"
      ]
     },
     "metadata": {},
     "output_type": "display_data"
    },
    {
     "name": "stdout",
     "output_type": "stream",
     "text": [
      "\n",
      "--> The keys in the returned dictionary of datasets are constructed as follows:\n",
      "\t'activity_id.institution_id.source_id.experiment_id.table_id.grid_label'\n"
     ]
    },
    {
     "data": {
      "text/html": [
       "\n",
       "    <div>\n",
       "        <style>\n",
       "            /* Turns off some styling */\n",
       "            progress {\n",
       "                /* gets rid of default border in Firefox and Opera. */\n",
       "                border: none;\n",
       "                /* Needs to be in here for Safari polyfill so background images work as expected. */\n",
       "                background-size: auto;\n",
       "            }\n",
       "            .progress-bar-interrupted, .progress-bar-interrupted::-webkit-progress-bar {\n",
       "                background: #F44336;\n",
       "            }\n",
       "        </style>\n",
       "      <progress value='7' class='' max='7' style='width:300px; height:20px; vertical-align: middle;'></progress>\n",
       "      100.00% [7/7 00:00<00:00]\n",
       "    </div>\n",
       "    "
      ],
      "text/plain": [
       "<IPython.core.display.HTML object>"
      ]
     },
     "metadata": {},
     "output_type": "display_data"
    }
   ],
   "source": [
    "import intake\n",
    "from cmip6_preprocessing.preprocessing import combined_preprocessing\n",
    "# utility func to convert oxygen units\n",
    "def convert_mol_m3_mymol_kg(o2):\n",
    "    converted = o2 / 1025 * 1e6\n",
    "    converted.attrs[\"units\"] = \"$\\mu mol/kg$\"\n",
    "    return converted\n",
    "\n",
    "\n",
    "# same cmip6 data as before\n",
    "col = intake.open_esm_datastore(\"https://storage.googleapis.com/cmip6/pangeo-cmip6.json\")\n",
    "\n",
    "dd_kwargs = dict(\n",
    "    zarr_kwargs={'consolidated':True},\n",
    "    preprocess=combined_preprocessing\n",
    ")\n",
    "cat = col.search(variable_id=['deptho'], grid_label='gr', source_id='GFDL-CM4')\n",
    "ddict = cat.to_dataset_dict(**dd_kwargs)\n",
    "_, ds = ddict.popitem()\n",
    "depth = ds.deptho.fillna(0).squeeze().transpose('y','x').load()#.data\n",
    "\n",
    "cat = col.search(variable_id=['o2'], grid_label='gr', source_id='GFDL-CM4')\n",
    "ddict = cat.to_dataset_dict(**dd_kwargs)\n",
    "\n",
    "ds = ddict['CMIP.NOAA-GFDL.GFDL-CM4.historical.Omon.gr']\n",
    "da_o2 = convert_mol_m3_mymol_kg(ds.o2).squeeze().isel(time=slice(0,600)).mean('time').transpose('x','y','lev')\n",
    "# For now I have loaded the coarser depth data, need to find a way to harmonize this with the cooler high res data later"
   ]
  },
  {
   "cell_type": "markdown",
   "id": "controversial-proposal",
   "metadata": {},
   "source": [
    "The first problem I encountered is that there was no way to implement non-uniform spacing (at least ipygany seems to treat array indicies as units)...\n",
    "\n",
    "Brute force way to handle this is to interpolate the depth onto regular intervals:"
   ]
  },
  {
   "cell_type": "code",
   "execution_count": 3,
   "id": "roman-child",
   "metadata": {},
   "outputs": [],
   "source": [
    "aspect_ratio = {'x':1,'y':1,'lev':1/5}\n",
    "spacing = {'x':1, 'y':1, 'lev':20}"
   ]
  },
  {
   "cell_type": "code",
   "execution_count": 4,
   "id": "amateur-performance",
   "metadata": {},
   "outputs": [],
   "source": [
    "# the current marching_cube implementation needs regularly spaced data\n",
    "da_o2 = da_o2.interp(lev=np.arange(0,np.max(depth),spacing['lev']))\n",
    "o2 = da_o2.fillna(1e12)#.load().data"
   ]
  },
  {
   "cell_type": "code",
   "execution_count": 5,
   "id": "beautiful-clinton",
   "metadata": {},
   "outputs": [],
   "source": [
    "# transpose both arrays in the same way\n",
    "depth = depth.transpose('y','x')\n",
    "o2 = o2.transpose('lev','y','x')"
   ]
  },
  {
   "cell_type": "markdown",
   "id": "sustainable-absorption",
   "metadata": {},
   "source": [
    "## Plot the bathymetry"
   ]
  },
  {
   "cell_type": "code",
   "execution_count": 6,
   "id": "dedicated-sierra",
   "metadata": {},
   "outputs": [
    {
     "data": {
      "application/vnd.jupyter.widget-view+json": {
       "model_id": "01ea7360ea804c40bb04d0bf6f109f17",
       "version_major": 2,
       "version_minor": 0
      },
      "text/plain": [
       "Output()"
      ]
     },
     "metadata": {},
     "output_type": "display_data"
    }
   ],
   "source": [
    "plot = k3d.plot()\n",
    "# xmin, xmax = depth.x.min().data,depth.x.max().data\n",
    "# ymin, ymax = depth.y.min().data,depth.y.max().data\n",
    "xmin, xmax = -1.0 ,1.0\n",
    "ymin, ymax = -1.0 ,1.0\n",
    "vertical_scaling = - depth.max().data*2\n",
    "\n",
    "plt_surface = k3d.surface(\n",
    "    depth.data/vertical_scaling,\n",
    "    color=5,\n",
    "    xmin=xmin,\n",
    "    xmax=xmax,\n",
    "    ymin=ymin,\n",
    "    ymax=ymax\n",
    ")\n",
    "plot += plt_surface\n",
    "\n",
    "plot.display()\n",
    "plot.lighting = 20"
   ]
  },
  {
   "cell_type": "markdown",
   "id": "adverse-distinction",
   "metadata": {},
   "source": [
    "## Now lets add an isosurface"
   ]
  },
  {
   "cell_type": "code",
   "execution_count": 7,
   "id": "governmental-coverage",
   "metadata": {},
   "outputs": [
    {
     "name": "stderr",
     "output_type": "stream",
     "text": [
      "/Users/juliusbusecke/miniconda/envs/hack_3d_viz/lib/python3.8/site-packages/dask/array/numpy_compat.py:39: RuntimeWarning: invalid value encountered in true_divide\n",
      "  x = np.divide(x1, x2, out)\n"
     ]
    },
    {
     "data": {
      "application/vnd.jupyter.widget-view+json": {
       "model_id": "6171b10bc5044c028254131884dcd47f",
       "version_major": 2,
       "version_minor": 0
      },
      "text/plain": [
       "Output()"
      ]
     },
     "metadata": {},
     "output_type": "display_data"
    }
   ],
   "source": [
    "plot2 = k3d.plot()\n",
    "zmin,zmax = o2.lev.min().data, o2.lev.max().data\n",
    "iso = k3d.marching_cubes(o2.data, level=80.0,xmin=xmin,\n",
    "    xmax=xmax,\n",
    "    ymin=ymin,\n",
    "    ymax=ymax,\n",
    "    zmin=zmin/vertical_scaling,\n",
    "    zmax=zmax/vertical_scaling\n",
    "    )\n",
    "plot2 += iso\n",
    "plot2.display()"
   ]
  },
  {
   "cell_type": "markdown",
   "id": "major-benefit",
   "metadata": {},
   "source": [
    "## And now both together..."
   ]
  },
  {
   "cell_type": "code",
   "execution_count": 8,
   "id": "studied-viking",
   "metadata": {},
   "outputs": [
    {
     "data": {
      "application/vnd.jupyter.widget-view+json": {
       "model_id": "1e59925675dd47189661c7d011787ad8",
       "version_major": 2,
       "version_minor": 0
      },
      "text/plain": [
       "Output()"
      ]
     },
     "metadata": {},
     "output_type": "display_data"
    }
   ],
   "source": [
    "plot_combo = k3d.plot()\n",
    "plot_combo += plt_surface\n",
    "plot_combo += iso\n",
    "\n",
    "plot_combo.display()"
   ]
  },
  {
   "cell_type": "code",
   "execution_count": 11,
   "id": "recorded-seller",
   "metadata": {},
   "outputs": [],
   "source": [
    "# tune the plot\n",
    "plot_combo.lighting = 50\n",
    "iso.opacity = 0.5"
   ]
  },
  {
   "cell_type": "code",
   "execution_count": null,
   "id": "atlantic-intermediate",
   "metadata": {},
   "outputs": [],
   "source": []
  },
  {
   "cell_type": "markdown",
   "id": "descending-purse",
   "metadata": {},
   "source": [
    "## Lets get fancy"
   ]
  },
  {
   "cell_type": "code",
   "execution_count": 14,
   "id": "broke-coating",
   "metadata": {},
   "outputs": [],
   "source": [
    "from ipywidgets import interact, interactive, fixed\n",
    "import ipywidgets as widgets"
   ]
  },
  {
   "cell_type": "code",
   "execution_count": 15,
   "id": "persistent-poetry",
   "metadata": {},
   "outputs": [
    {
     "data": {
      "application/vnd.jupyter.widget-view+json": {
       "model_id": "ccd9dee99bf74511b94b734e952a1b8b",
       "version_major": 2,
       "version_minor": 0
      },
      "text/plain": [
       "interactive(children=(FloatSlider(value=80.0, description='o2', max=400.0, step=5.0), Output()), _dom_classes=…"
      ]
     },
     "metadata": {},
     "output_type": "display_data"
    },
    {
     "data": {
      "application/vnd.jupyter.widget-view+json": {
       "model_id": "b2298fcb27f44dbcb0b0eee98c2223ff",
       "version_major": 2,
       "version_minor": 0
      },
      "text/plain": [
       "interactive(children=(FloatSlider(value=0.8, description='alpha', max=1.0), Output()), _dom_classes=('widget-i…"
      ]
     },
     "metadata": {},
     "output_type": "display_data"
    },
    {
     "data": {
      "application/vnd.jupyter.widget-view+json": {
       "model_id": "672c3ca8898e479bbc811d65acca3e51",
       "version_major": 2,
       "version_minor": 0
      },
      "text/plain": [
       "Output()"
      ]
     },
     "metadata": {},
     "output_type": "display_data"
    }
   ],
   "source": [
    "# interactive sliders\n",
    "plot_combo = k3d.plot()\n",
    "plot_combo += plt_surface\n",
    "plot_combo += iso\n",
    "\n",
    "@interact(o2=widgets.FloatSlider(value=80,min=0,max=400,step=5))\n",
    "def f(o2):\n",
    "    iso.level=o2\n",
    "    \n",
    "@interact(alpha=widgets.FloatSlider(value=0.8,min=0,max=1,step=0.1))\n",
    "def g(alpha):\n",
    "    iso.opacity=alpha\n",
    "\n",
    "plot_combo.display()"
   ]
  },
  {
   "cell_type": "markdown",
   "id": "advanced-peter",
   "metadata": {},
   "source": [
    "## open questions for the hack\n",
    "\n",
    "- I do not understand the color coding. \n",
    "- Can we use xarray to make the aspect ratio/scaling easier?\n",
    "- I would love to smooth the resulting meshes. Pyvista can do that? \n",
    "- Other shading options available?\n",
    "- map on a sphere?\n"
   ]
  },
  {
   "cell_type": "code",
   "execution_count": null,
   "id": "shared-syndrome",
   "metadata": {},
   "outputs": [],
   "source": [
    "# tune the plot\n",
    "\n",
    "# more light\n",
    "plot_combo.lighting = 40\n",
    "iso.opacity = 0.5\n",
    "\n",
    "# add a slider for the iso level\n",
    "@interact(x=widgets.FloatSlider(value=0,min=-3,max=4,step=0.01))\n",
    "def g(x):\n",
    "    iso.level=x"
   ]
  }
 ],
 "metadata": {
  "kernelspec": {
   "display_name": "Python 3",
   "language": "python",
   "name": "python3"
  },
  "language_info": {
   "codemirror_mode": {
    "name": "ipython",
    "version": 3
   },
   "file_extension": ".py",
   "mimetype": "text/x-python",
   "name": "python",
   "nbconvert_exporter": "python",
   "pygments_lexer": "ipython3",
   "version": "3.8.8"
  }
 },
 "nbformat": 4,
 "nbformat_minor": 5
}
